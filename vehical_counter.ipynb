{
 "cells": [
  {
   "cell_type": "code",
   "execution_count": 1,
   "id": "eca07e1d-2739-47ee-bd61-fc4599f9e74e",
   "metadata": {},
   "outputs": [],
   "source": [
    "from tensorflow import keras\n",
    "\n",
    "# Load the model\n",
    "model = keras.models.load_model('model.h5')\n"
   ]
  },
  {
   "cell_type": "code",
   "execution_count": 2,
   "id": "50a68c00-891b-429e-8e97-830d5e5ef75f",
   "metadata": {},
   "outputs": [],
   "source": [
    "# pip install opencv-python"
   ]
  },
  {
   "cell_type": "code",
   "execution_count": 3,
   "id": "f77436c1-bedc-457c-97f9-7ff61f3725a5",
   "metadata": {},
   "outputs": [
    {
     "name": "stdout",
     "output_type": "stream",
     "text": [
      "1/1 [==============================] - 0s 488ms/step\n",
      "[[8.8633072e-01 4.2508165e-03 8.3982630e-04 1.0027897e-01 8.2997074e-03]]\n",
      "Predicted Class: Auto\n"
     ]
    }
   ],
   "source": [
    "import cv2\n",
    "import numpy as np\n",
    "\n",
    "# Load and preprocess the image\n",
    "image_path = 'Datacluster Auto (138).jpg'\n",
    "image = cv2.imread(image_path)\n",
    "image = cv2.resize(image, (224, 224))  # Resize the image to match your model's input size\n",
    "image = image / 255.0  # Normalize the pixel values\n",
    "\n",
    "# Make predictions\n",
    "predictions = model.predict(np.expand_dims(image, axis=0))  # Add a batch dimension\n",
    "print(predictions)\n",
    "# The 'predictions' variable now contains the predicted probabilities for each class.\n",
    "# You can use np.argmax(predictions) to find the index of the class with the highest probability.\n",
    "\n",
    "# For example, if you want to find the class with the highest probability:\n",
    "predicted_class = np.argmax(predictions)\n",
    "\n",
    "# You might also want to decode the class index to get the class label based on your dataset.\n",
    "class_labels = [\"Auto\", \"Bus\", \"Tempo\", \"Tractor\", \"Truck\"]\n",
    "predicted_label = class_labels[predicted_class]\n",
    "\n",
    "# Print the predicted class label\n",
    "print(\"Predicted Class:\", predicted_label)"
   ]
  },
  {
   "cell_type": "code",
   "execution_count": 4,
   "id": "92f72a14-d9fc-4b30-91e2-b7368489b77d",
   "metadata": {},
   "outputs": [],
   "source": [
    "# pip install cvlib"
   ]
  },
  {
   "cell_type": "code",
   "execution_count": 5,
   "id": "cf69cc37-c572-4582-8080-c5dcbac18c69",
   "metadata": {},
   "outputs": [],
   "source": [
    "# pip install --upgrade pip"
   ]
  },
  {
   "cell_type": "code",
   "execution_count": 6,
   "id": "7c2693ea-060b-44d7-af80-28d57d11850f",
   "metadata": {},
   "outputs": [],
   "source": [
    "# pip install vidgear"
   ]
  },
  {
   "cell_type": "code",
   "execution_count": 7,
   "id": "290c9788-7113-4444-8253-a1dc824c548a",
   "metadata": {},
   "outputs": [],
   "source": [
    "# pip install opencv-contrib-python"
   ]
  },
  {
   "cell_type": "code",
   "execution_count": null,
   "id": "ecff81c8-5154-4f10-8860-0c1fe0f85756",
   "metadata": {},
   "outputs": [],
   "source": []
  },
  {
   "cell_type": "code",
   "execution_count": 8,
   "id": "b34058ed-ae9f-4ebf-8882-5112b027c1a0",
   "metadata": {},
   "outputs": [],
   "source": [
    "# # from yolov3\n",
    "# import cv2\n",
    "# import cvlib as cv\n",
    "# from cvlib.object_detection import draw_bbox\n",
    "# from vidgear.gears import CamGear    \n",
    "# cap = cv2.VideoCapture(\"Vehicle_count_test.mp4\")\n",
    "# count=0\n",
    "# label_file_path = 'Untitled Folder/yolov3.txt'\n",
    "# cfg_file_path = 'Untitled Folder/yolov3.cfg'\n",
    "# while True:\n",
    "#     ret, frame = cap.read()\n",
    "#     count += 1\n",
    "#     if count % 6 != 0:\n",
    "#         continue\n",
    "#     frame=cv2.resize(frame,(1020,600))\n",
    "#     # bbox,label,conf = cv.detect_common_objects(frame,\n",
    "#     # confidence=0.5,\n",
    "#     # enable_gpu=True,\n",
    "#     # model='yolov4')\n",
    "#     # frame = draw_bbox(frame,bbox,label = label_file_path ,cfg = cfg_file_path)\n",
    "#     cv2.imshow(\"FRAME\",frame)\n",
    "#     if cv2.waitKey(1)&0xFF==27:\n",
    "#         break\n",
    "# cap.release()\n",
    "# cv2.destroyAllWindows()"
   ]
  },
  {
   "cell_type": "code",
   "execution_count": 9,
   "id": "1476b563-1bb9-4b77-9964-e9b45217d3e4",
   "metadata": {},
   "outputs": [],
   "source": [
    "# pip install opencv-contrib-python"
   ]
  },
  {
   "cell_type": "code",
   "execution_count": 18,
   "id": "dc897bbe-f010-4dd5-8e07-bd8ec5858d68",
   "metadata": {},
   "outputs": [
    {
     "name": "stdout",
     "output_type": "stream",
     "text": [
      "1/1 [==============================] - 1s 1s/step\n",
      "1/1 [==============================] - 1s 1s/step\n",
      "Total Vehicles Count:  25\n",
      "Auto count : 2\n",
      "Bus count : 0\n",
      "Tempo count : 0\n",
      "Tractor count : 0\n",
      "Truck count : 0\n",
      "Other Vehicles count : 23\n"
     ]
    }
   ],
   "source": [
    "import cv2\n",
    "import numpy as np\n",
    "from time import sleep\n",
    "width_min=80 #Largura minima do retangulo\n",
    "height_min=80 #Altura minima do retangulo\n",
    "\n",
    "offset=6 #Erro permitido entre pixel  \n",
    "\n",
    "pos=400 #Posição da linha de contagem \n",
    "\n",
    "delay= 60 #FPS do vídeo\n",
    "\n",
    "detect = []\n",
    "a =0\n",
    "b =0\n",
    "te = 0\n",
    "ta =0\n",
    "tu =0\n",
    "o =0\n",
    "count =0\n",
    "\t\n",
    "def page_center(x, y, w, h):\n",
    "    x1 = int(w / 2)\n",
    "    y1 = int(h / 2)\n",
    "    cx = x + x1\n",
    "    cy = y + y1\n",
    "    return cx,cy\n",
    "\n",
    "cap = cv2.VideoCapture('Vehicle_count_test.mp4')\n",
    "subtractor = cv2.createBackgroundSubtractorMOG2()\n",
    "\n",
    "def pred(image,x,y,w,h):\n",
    "    if w <= 0 or h <= 0:\n",
    "        return \"Invalid\"\n",
    "\n",
    "    roi = image[y:h, x:w]\n",
    "    if roi.size == 0:\n",
    "        return \"Empty\"\n",
    "    # image = cv2.imread(image_path)\n",
    "    # roi = image[y:h,x:w]\n",
    "    resized_roi = cv2.resize(roi,(224,224))  # Resize the image to match your model's input size\n",
    "    image = image / 255.0  # Normalize the pixel values\n",
    "    model.predict(np.expand_dims(image, axis=0))\n",
    "    predicted_class = np.argmax(predictions)\n",
    "    # You might also want to decode the class index to get the class label based on your dataset.\n",
    "    class_labels = [\"Auto\", \"Bus\", \"Tempo\", \"Tractor\", \"Truck\"]\n",
    "    predicted_label = class_labels[predicted_class]\n",
    "    return predicted_label\n",
    "\n",
    "while True:\n",
    "    ret , frame1 = cap.read()\n",
    "    if not ret:\n",
    "        break\n",
    "    frame1 = cv2.resize(frame1,(1020,600))\n",
    "    # tempo = float(1/delay)\n",
    "    # sleep(tempo) \n",
    "    grey = cv2.cvtColor(frame1,cv2.COLOR_BGR2GRAY)\n",
    "    blur = cv2.GaussianBlur(grey,(3,3),5)\n",
    "    img_sub = subtractor.apply(blur)\n",
    "    dilate = cv2.dilate(img_sub,np.ones((5,5)))\n",
    "    kernel = cv2.getStructuringElement(cv2.MORPH_ELLIPSE, (5, 5))\n",
    "    dilatada = cv2.morphologyEx (dilate, cv2. MORPH_CLOSE , kernel)\n",
    "    dilatada = cv2.morphologyEx (dilatada, cv2. MORPH_CLOSE , kernel)\n",
    "    cont,h=cv2.findContours(dilatada,cv2.RETR_TREE,cv2.CHAIN_APPROX_SIMPLE)\n",
    "    cv2.line(frame1, (25, pos), (1800, pos), (255,127,0), 3) \n",
    "    for(i,c) in enumerate(cont):\n",
    "        (x,y,w,h) = cv2.boundingRect(c)\n",
    "        valid_cont = (w >= width_min) and (h >= height_min)\n",
    "        if not valid_cont:\n",
    "            continue\n",
    "\n",
    "        cv2.rectangle(frame1,(x,y),(x+w,y+h),(0,255,0),2)        \n",
    "        centre = page_center(x, y, w, h)\n",
    "        detect.append(centre)\n",
    "        cv2.circle(frame1, centre, 4, (0, 0,255), -1)\n",
    "        \n",
    "        for (x,y) in detect:\n",
    "            if y<(pos+offset) and y>(pos-offset):\n",
    "                count+=1\n",
    "                cv2.line(frame1, (25, pos), (1000, pos), (0,127,255), 3)  \n",
    "                detect.remove((x,y))\n",
    "                vehicle_type = pred(frame1, x, y, w, h)\n",
    "                if vehicle_type == \"Auto\":\n",
    "                    a += 1\n",
    "                elif vehicle_type == \"Bus\":\n",
    "                    b += 1\n",
    "                elif vehicle_type == \"Tempo\":\n",
    "                    te += 1\n",
    "                elif vehicle_type == \"Tractor\":\n",
    "                    ta += 1\n",
    "                elif vehicle_type == \"Truck\":\n",
    "                    tu += 1\n",
    "                else:\n",
    "                    o += 1\n",
    "                \n",
    "                # print(\"car is detected : \"+str(count))       \n",
    "    # cv2.putText(frame1, \"AUTO COUNT : \"+str(a), (100, 10), cv2.FONT_HERSHEY_SIMPLEX, 2, (0, 0, 255),5)\n",
    "    # cv2.putText(frame1, \"BUS COUNT : \"+str(b), (100, 30), cv2.FONT_HERSHEY_SIMPLEX, 2, (0, 0, 255),5)\n",
    "    # cv2.putText(frame1, \"TEMPO COUNT : \"+str(te), (100, 50), cv2.FONT_HERSHEY_SIMPLEX, 2, (0, 0, 255),5)\n",
    "    # cv2.putText(frame1, \"TRACTOR COUNT : \"+str(ta), (100, 70), cv2.FONT_HERSHEY_SIMPLEX, 2, (0, 0, 255),5)\n",
    "    # cv2.putText(frame1, \"TRUCK COUNT : \"+str(tu), (100, 90), cv2.FONT_HERSHEY_SIMPLEX, 2, (0, 0, 255),5)\n",
    "    cv2.putText(frame1, \"VEHICLES COUNT : \"+str(count), (100, 110), cv2.FONT_HERSHEY_SIMPLEX, 2, (0, 255, 255),5)\n",
    "    cv2.imshow(\"Video Original\" , frame1)\n",
    "    cv2.imshow(\"Detectar\",dilatada)\n",
    "\n",
    "    if cv2.waitKey(1) == 27:\n",
    "        break\n",
    "print(\"Total Vehicles Count: \",count)\n",
    "print(\"Auto count :\",a)\n",
    "print(\"Bus count :\",b)\n",
    "print(\"Tempo count :\",te)\n",
    "print(\"Tractor count :\",ta)\n",
    "print(\"Truck count :\",tu)\n",
    "print(\"Other Vehicles count :\",o)\n",
    "cv2.destroyAllWindows()\n",
    "cap.release()\n"
   ]
  },
  {
   "cell_type": "code",
   "execution_count": null,
   "id": "098de801-c7a4-4157-a237-87030947d0e9",
   "metadata": {},
   "outputs": [],
   "source": []
  },
  {
   "cell_type": "code",
   "execution_count": null,
   "id": "716ad86f-623b-4154-a0fb-f394f92f1641",
   "metadata": {},
   "outputs": [],
   "source": []
  }
 ],
 "metadata": {
  "kernelspec": {
   "display_name": "virtual_project",
   "language": "python",
   "name": "virtual_project"
  },
  "language_info": {
   "codemirror_mode": {
    "name": "ipython",
    "version": 3
   },
   "file_extension": ".py",
   "mimetype": "text/x-python",
   "name": "python",
   "nbconvert_exporter": "python",
   "pygments_lexer": "ipython3",
   "version": "3.11.5"
  }
 },
 "nbformat": 4,
 "nbformat_minor": 5
}
